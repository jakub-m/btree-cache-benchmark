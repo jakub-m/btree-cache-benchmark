{
 "cells": [
  {
   "cell_type": "code",
   "execution_count": 12,
   "id": "fe9b8df8-78aa-45c2-b1dc-de3a85cdf8e7",
   "metadata": {},
   "outputs": [
    {
     "data": {
      "text/markdown": [
       "| btree order | relative time (degradation)|\n",
       "|-------|-------------|\n",
       "| 2 | 156.6% |\n",
       "| 3 | 17.5% |\n",
       "| 6 | 17.0% |\n",
       "| 10 | 20.9% |\n",
       "| 23 | 29.0% |\n"
      ],
      "text/plain": [
       "<IPython.core.display.Markdown object>"
      ]
     },
     "metadata": {},
     "output_type": "display_data"
    },
    {
     "name": "stdout",
     "output_type": "stream",
     "text": [
      "| btree order | relative time (degradation)|\n",
      "|-------|-------------|\n",
      "| 2 | 156.6% |\n",
      "| 3 | 17.5% |\n",
      "| 6 | 17.0% |\n",
      "| 10 | 20.9% |\n",
      "| 23 | 29.0% |\n",
      "\n"
     ]
    }
   ],
   "source": [
    "import re\n",
    "\n",
    "seq_range = \"range\"\n",
    "seq_shuffled_range = \"shuffledRange\"\n",
    "\n",
    "filename = \"benchmark.log\"\n",
    "results_to_compare = {}\n",
    "with open(filename) as h:\n",
    "    for line in h:\n",
    "        if not line.startswith(\"BenchmarkInsert\"):\n",
    "            continue\n",
    "        m = re.match(r'BenchmarkInsert/n:(?P<n>\\d+)_order:(?P<order>\\d+)_seq:(?P<seq>\\w+)-\\d+\\s+\\d+\\s+(?P<time>\\d+)', line)\n",
    "        if not m:\n",
    "            continue\n",
    "        n = m.group('n')\n",
    "        order = m.group('order')\n",
    "        seq = m.group('seq')\n",
    "        time_ns = int(m.group('time'))\n",
    "        results_to_compare.setdefault(order, {})[seq] = time_ns\n",
    "# print(results_to_compare)\n",
    "\n",
    "from IPython.display import display, Markdown, Latex\n",
    "import io\n",
    "\n",
    "out = io.StringIO()\n",
    "\n",
    "print(\"| btree order | relative time (degradation)|\", file=out)\n",
    "print(\"|-------|-------------|\", file=out)\n",
    "for order, timings in results_to_compare.items():\n",
    "    t_range = timings[seq_range]\n",
    "    t_shuffled = timings[seq_shuffled_range]\n",
    "    print(f\"| {order} | {(t_shuffled/t_range-1)*100:.1f}% |\", file=out)\n",
    "\n",
    "display(Markdown(out.getvalue()))\n",
    "print(out.getvalue())"
   ]
  },
  {
   "cell_type": "code",
   "execution_count": null,
   "id": "703584eb-3854-47b6-84fa-5f483fdc0970",
   "metadata": {},
   "outputs": [],
   "source": []
  }
 ],
 "metadata": {
  "kernelspec": {
   "display_name": "Python 3 (ipykernel)",
   "language": "python",
   "name": "python3"
  },
  "language_info": {
   "codemirror_mode": {
    "name": "ipython",
    "version": 3
   },
   "file_extension": ".py",
   "mimetype": "text/x-python",
   "name": "python",
   "nbconvert_exporter": "python",
   "pygments_lexer": "ipython3",
   "version": "3.11.5"
  }
 },
 "nbformat": 4,
 "nbformat_minor": 5
}
