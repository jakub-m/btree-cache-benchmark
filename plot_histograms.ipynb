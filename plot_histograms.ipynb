{
 "cells": [
  {
   "cell_type": "code",
   "execution_count": 2,
   "id": "035e8190-6723-4d6b-8c7b-9e1701c19229",
   "metadata": {},
   "outputs": [
    {
     "ename": "NameError",
     "evalue": "name '_ct' is not defined",
     "output_type": "error",
     "traceback": [
      "\u001b[0;31m---------------------------------------------------------------------------\u001b[0m",
      "\u001b[0;31mNameError\u001b[0m                                 Traceback (most recent call last)",
      "Cell \u001b[0;32mIn[2], line 48\u001b[0m\n\u001b[1;32m     46\u001b[0m \u001b[38;5;66;03m#_ct=1_000\u001b[39;00m\n\u001b[1;32m     47\u001b[0m _prob\u001b[38;5;241m=\u001b[39m\u001b[38;5;28;01mFalse\u001b[39;00m\n\u001b[0;32m---> 48\u001b[0m plot_histogram_for_file(\u001b[38;5;124m\"\u001b[39m\u001b[38;5;124mout/hist_m5.txt\u001b[39m\u001b[38;5;124m\"\u001b[39m, cutoff_ticks\u001b[38;5;241m=\u001b[39m\u001b[43m_ct\u001b[49m, prob\u001b[38;5;241m=\u001b[39m_prob, label\u001b[38;5;241m=\u001b[39m\u001b[38;5;124m\"\u001b[39m\u001b[38;5;124msequence\u001b[39m\u001b[38;5;124m\"\u001b[39m)\n\u001b[1;32m     49\u001b[0m \u001b[38;5;66;03m#plt.show()\u001b[39;00m\n\u001b[1;32m     50\u001b[0m plot_histogram_for_file(\u001b[38;5;124m\"\u001b[39m\u001b[38;5;124mout/hist_m5_shuff.txt\u001b[39m\u001b[38;5;124m\"\u001b[39m, cutoff_ticks\u001b[38;5;241m=\u001b[39m_ct, prob\u001b[38;5;241m=\u001b[39m_prob, label\u001b[38;5;241m=\u001b[39m\u001b[38;5;124m\"\u001b[39m\u001b[38;5;124mshuffled\u001b[39m\u001b[38;5;124m\"\u001b[39m)\n",
      "\u001b[0;31mNameError\u001b[0m: name '_ct' is not defined"
     ]
    }
   ],
   "source": [
    "import matplotlib.pyplot as plt\n",
    "import numpy as np\n",
    "\n",
    "def plot_histogram_for_file(filename, cutoff_ticks=0, prob=False, label=None):\n",
    "    timers, counters = load_histogram_from_file(filename)\n",
    "    \n",
    "    \n",
    "    plt.title(filename)\n",
    "    if cutoff_ticks:\n",
    "        ix = timers < cutoff_ticks\n",
    "    else:\n",
    "        ix = timers >= 0\n",
    "    \n",
    "    print(f\"{np.sum(counters[ix])/np.sum(counters)*100:.1f}% , {np.sum(counters)}\")\n",
    "    print(f\"{np.max(timers)} max time\")\n",
    "    plt.xlabel(\"tick [1]\")\n",
    "    # plt.yscale('log')\n",
    "    #plt.xscale('log')\n",
    "    #plt.xlim((0, np.max(timers)/50))\n",
    "    #bins=None\n",
    "    bins = [0] + [2**e for e in range(10)]\n",
    "    if prob:\n",
    "        plt.ylabel(\"probability\")\n",
    "        plt.hist(timers[ix], weights=counters[ix], bins=bins, histtype='step', cumulative=True, density=True, label=label)\n",
    "    else:\n",
    "        plt.ylabel(\"histogram\")\n",
    "        plt.hist(timers[ix], weights=counters[ix], bins=bins, histtype='step', label=label)\n",
    "        \n",
    "\n",
    "\n",
    "def load_histogram_from_file(filename):\n",
    "    dt_arr = [] \n",
    "    cnt_arr = []\n",
    "    with open(filename) as h:\n",
    "        it = iter(h)\n",
    "        next(it)\n",
    "        for line in it:\n",
    "            dt, cnt = [int(p.strip()) for p in line.split()]\n",
    "            dt_arr.append(dt)\n",
    "            cnt_arr.append(cnt)\n",
    "    timers = np.array(dt_arr)\n",
    "    counters = np.array(cnt_arr)\n",
    "    return timers, counters\n",
    "\n",
    "\n",
    "#_ct=1_000\n",
    "_prob=False\n",
    "plot_histogram_for_file(\"out/hist_m5.txt\", cutoff_ticks=_ct, prob=_prob, label=\"sequence\")\n",
    "#plt.show()\n",
    "plot_histogram_for_file(\"out/hist_m5_shuff.txt\", cutoff_ticks=_ct, prob=_prob, label=\"shuffled\")\n",
    "#plt.show()\n",
    "plt.legend(loc=\"upper right\")\n"
   ]
  },
  {
   "cell_type": "code",
   "execution_count": null,
   "id": "782bb417-7e01-4909-b0d9-551745c1c7c0",
   "metadata": {},
   "outputs": [],
   "source": []
  }
 ],
 "metadata": {
  "kernelspec": {
   "display_name": "Python 3 (ipykernel)",
   "language": "python",
   "name": "python3"
  },
  "language_info": {
   "codemirror_mode": {
    "name": "ipython",
    "version": 3
   },
   "file_extension": ".py",
   "mimetype": "text/x-python",
   "name": "python",
   "nbconvert_exporter": "python",
   "pygments_lexer": "ipython3",
   "version": "3.11.5"
  }
 },
 "nbformat": 4,
 "nbformat_minor": 5
}
